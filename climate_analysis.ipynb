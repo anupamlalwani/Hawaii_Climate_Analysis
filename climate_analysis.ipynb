{
 "cells": [
  {
   "cell_type": "markdown",
   "metadata": {},
   "source": [
    "## Climate Analysis and Exploration\n",
    "- Using Python and SQLAlchemy to do basic climate analysis and data exploration on weather station tables. \n",
    "- All of the following analysis is done using SQLAlchemy ORM queries, Pandas, and Matplotlib."
   ]
  },
  {
   "cell_type": "code",
   "execution_count": 29,
   "metadata": {
    "collapsed": true
   },
   "outputs": [],
   "source": [
    "# importing dependencies for connecting to sqlite databse and querying data\n",
    "import sqlalchemy\n",
    "from sqlalchemy.ext.automap import automap_base\n",
    "from sqlalchemy.orm import Session\n",
    "from sqlalchemy import create_engine, func, inspect, desc\n",
    "import pandas as pd\n",
    "import matplotlib.pyplot as plt\n",
    "import matplotlib.patches as mp\n",
    "import datetime as dt\n",
    "import seaborn as sns\n",
    "import numpy as np"
   ]
  },
  {
   "cell_type": "code",
   "execution_count": 3,
   "metadata": {
    "collapsed": true
   },
   "outputs": [],
   "source": [
    "#vacation range - 5 days (8/1/17 - 8/6/17)"
   ]
  },
  {
   "cell_type": "code",
   "execution_count": 4,
   "metadata": {
    "collapsed": true
   },
   "outputs": [],
   "source": [
    "#connecting to hawaii.sqlite database by creating engine connection\n",
    "engine = create_engine(\"sqlite:///hawaii.sqlite\", echo=False)"
   ]
  },
  {
   "cell_type": "code",
   "execution_count": 5,
   "metadata": {},
   "outputs": [
    {
     "data": {
      "text/plain": [
       "['measurements', 'stations']"
      ]
     },
     "execution_count": 5,
     "metadata": {},
     "output_type": "execute_result"
    }
   ],
   "source": [
    "#reflecting tables into classes\n",
    "Base = automap_base()\n",
    "Base.prepare(engine, reflect=True)\n",
    "Base.classes.keys() #lists the tables that exist in the database"
   ]
  },
  {
   "cell_type": "code",
   "execution_count": 6,
   "metadata": {
    "collapsed": true
   },
   "outputs": [],
   "source": [
    "#creating session with engine to query the database\n",
    "session = Session(engine)"
   ]
  },
  {
   "cell_type": "code",
   "execution_count": 7,
   "metadata": {
    "collapsed": true
   },
   "outputs": [],
   "source": [
    "#saving measurement table refrences of ORM class\n",
    "Measurement = Base.classes.measurements\n"
   ]
  },
  {
   "cell_type": "code",
   "execution_count": 8,
   "metadata": {},
   "outputs": [
    {
     "name": "stdout",
     "output_type": "stream",
     "text": [
      "id INTEGER\n",
      "station TEXT\n",
      "date TEXT\n",
      "prcp FLOAT\n",
      "tobs FLOAT\n"
     ]
    }
   ],
   "source": [
    "# checking all columns of Measurement class\n",
    "inspector = inspect(engine)\n",
    "columns = inspector.get_columns('measurements')\n",
    "for c in columns:\n",
    "    print(c['name'], c[\"type\"])"
   ]
  },
  {
   "cell_type": "markdown",
   "metadata": {},
   "source": [
    "### Precipitation Analysis\n",
    "* Designing a query to retrieve the last 12 months of precipitation data by retrieving date and prcp columns\n",
    "* Loading the query results into a Pandas DataFrame and resetting the index to date column.\n",
    "* Plotting the results using the DataFrame plot method."
   ]
  },
  {
   "cell_type": "code",
   "execution_count": 9,
   "metadata": {
    "scrolled": true
   },
   "outputs": [
    {
     "data": {
      "text/plain": [
       "[('2016-08-01', 8.71),\n",
       " ('2016-08-02', 2.84),\n",
       " ('2016-08-03', 0.05),\n",
       " ('2016-08-04', 1.81),\n",
       " ('2016-08-05', 0.34),\n",
       " ('2016-08-06', 0.25),\n",
       " ('2016-08-07', 3.34),\n",
       " ('2016-08-08', 0.6600000000000001),\n",
       " ('2016-08-09', 0.5900000000000001),\n",
       " ('2016-08-10', 0.0)]"
      ]
     },
     "execution_count": 9,
     "metadata": {},
     "output_type": "execute_result"
    }
   ],
   "source": [
    "# getting prcp values for all stations each day of for past 12 months range \n",
    "# my date range is 2016-08-01 to 2017-07-31\n",
    "# .group_by(func.strftime(\"%m%Y\", Measurement.date))\n",
    "\n",
    "# Analyst's discretion: Since we are not getting any station specific data, I have added the precipitation for\n",
    "# all stations so each day shows total precipitation (across all stations)\n",
    "    \n",
    "prcp_each_day = session.query(func.strftime(\"%Y-%m-%d\",Measurement.date), func.sum(Measurement.prcp))\\\n",
    "            .filter(Measurement.date.between('2016-08-01','2017-07-31')).group_by(Measurement.date)\\\n",
    "            .order_by(Measurement.date).all()\n",
    "prcp_each_day[:10]"
   ]
  },
  {
   "cell_type": "code",
   "execution_count": 10,
   "metadata": {},
   "outputs": [
    {
     "name": "stdout",
     "output_type": "stream",
     "text": [
      "['2016-08-01', '2016-08-02', '2016-08-03', '2016-08-04', '2016-08-05'] \n",
      " [8.71, 2.84, 0.05, 1.81, 0.34]\n"
     ]
    }
   ],
   "source": [
    "# Unpack tuples using list comprehensions\n",
    "dates = [i[0] for i in prcp_each_day]\n",
    "precipitation = [(i[1]) for i in prcp_each_day]\n",
    "print(dates[:5],'\\n', precipitation[:5])"
   ]
  },
  {
   "cell_type": "code",
   "execution_count": 11,
   "metadata": {},
   "outputs": [
    {
     "data": {
      "text/plain": [
       "365"
      ]
     },
     "execution_count": 11,
     "metadata": {},
     "output_type": "execute_result"
    }
   ],
   "source": [
    "#confirming dates again\n",
    "len(dates)"
   ]
  },
  {
   "cell_type": "code",
   "execution_count": 12,
   "metadata": {},
   "outputs": [
    {
     "data": {
      "text/plain": [
       "365"
      ]
     },
     "execution_count": 12,
     "metadata": {},
     "output_type": "execute_result"
    }
   ],
   "source": [
    "len(precipitation)"
   ]
  },
  {
   "cell_type": "code",
   "execution_count": 41,
   "metadata": {},
   "outputs": [
    {
     "data": {
      "text/html": [
       "<div>\n",
       "<style>\n",
       "    .dataframe thead tr:only-child th {\n",
       "        text-align: right;\n",
       "    }\n",
       "\n",
       "    .dataframe thead th {\n",
       "        text-align: left;\n",
       "    }\n",
       "\n",
       "    .dataframe tbody tr th {\n",
       "        vertical-align: top;\n",
       "    }\n",
       "</style>\n",
       "<table border=\"1\" class=\"dataframe\">\n",
       "  <thead>\n",
       "    <tr style=\"text-align: right;\">\n",
       "      <th></th>\n",
       "      <th>precipitation</th>\n",
       "    </tr>\n",
       "    <tr>\n",
       "      <th>dates</th>\n",
       "      <th></th>\n",
       "    </tr>\n",
       "  </thead>\n",
       "  <tbody>\n",
       "    <tr>\n",
       "      <th>2016-08-01</th>\n",
       "      <td>8.71</td>\n",
       "    </tr>\n",
       "    <tr>\n",
       "      <th>2016-08-02</th>\n",
       "      <td>2.84</td>\n",
       "    </tr>\n",
       "    <tr>\n",
       "      <th>2016-08-03</th>\n",
       "      <td>0.05</td>\n",
       "    </tr>\n",
       "    <tr>\n",
       "      <th>2016-08-04</th>\n",
       "      <td>1.81</td>\n",
       "    </tr>\n",
       "    <tr>\n",
       "      <th>2016-08-05</th>\n",
       "      <td>0.34</td>\n",
       "    </tr>\n",
       "  </tbody>\n",
       "</table>\n",
       "</div>"
      ],
      "text/plain": [
       "            precipitation\n",
       "dates                    \n",
       "2016-08-01           8.71\n",
       "2016-08-02           2.84\n",
       "2016-08-03           0.05\n",
       "2016-08-04           1.81\n",
       "2016-08-05           0.34"
      ]
     },
     "execution_count": 41,
     "metadata": {},
     "output_type": "execute_result"
    }
   ],
   "source": [
    "#putting results into dataframe\n",
    "prcp_each_day_df = pd.DataFrame(prcp_each_day, columns=['dates', 'precipitation'])\n",
    "\n",
    "#setting the index to date\n",
    "prcp_each_day_df.set_index(['dates'], inplace=True)\n",
    "prcp_each_day_df.head()\n"
   ]
  },
  {
   "cell_type": "code",
   "execution_count": 24,
   "metadata": {
    "scrolled": false
   },
   "outputs": [
    {
     "data": {
      "image/png": "[encoded data removed]",
      "text/plain": [
       "<matplotlib.figure.Figure at 0x1151767f0>"
      ]
     },
     "metadata": {},
     "output_type": "display_data"
    }
   ],
   "source": [
    "ax = prcp_each_day_df.plot(kind='bar', figsize=(8,6))\n",
    "n = 25\n",
    "\n",
    "xticks = ax.xaxis.get_ticklocs()\n",
    "xticklabels = [tick.get_text() for tick in ax.xaxis.get_ticklabels()]\n",
    "ax.set_xticks(xticks[::n])\n",
    "ax.set_xticklabels(xticklabels[::n], rotation=45)\n",
    "plt.tight_layout()                           \n",
    "plt.show()"
   ]
  },
  {
   "cell_type": "raw",
   "metadata": {},
   "source": [
    "#converting strings to date\n",
    "#dt.datetime.strptime(dates,'%Y-%m-%d')\n",
    "dates_list = [dt.datetime.strptime(date, \"%Y-%m-%d\").date() for date in dates]\n",
    "dates_list[:5]"
   ]
  },
  {
   "cell_type": "code",
   "execution_count": 252,
   "metadata": {},
   "outputs": [
    {
     "data": {
      "text/html": [
       "<div>\n",
       "<style>\n",
       "    .dataframe thead tr:only-child th {\n",
       "        text-align: right;\n",
       "    }\n",
       "\n",
       "    .dataframe thead th {\n",
       "        text-align: left;\n",
       "    }\n",
       "\n",
       "    .dataframe tbody tr th {\n",
       "        vertical-align: top;\n",
       "    }\n",
       "</style>\n",
       "<table border=\"1\" class=\"dataframe\">\n",
       "  <thead>\n",
       "    <tr style=\"text-align: right;\">\n",
       "      <th></th>\n",
       "      <th>precipitation</th>\n",
       "    </tr>\n",
       "  </thead>\n",
       "  <tbody>\n",
       "    <tr>\n",
       "      <th>count</th>\n",
       "      <td>365.000000</td>\n",
       "    </tr>\n",
       "    <tr>\n",
       "      <th>mean</th>\n",
       "      <td>1.176521</td>\n",
       "    </tr>\n",
       "    <tr>\n",
       "      <th>std</th>\n",
       "      <td>2.389946</td>\n",
       "    </tr>\n",
       "    <tr>\n",
       "      <th>min</th>\n",
       "      <td>0.000000</td>\n",
       "    </tr>\n",
       "    <tr>\n",
       "      <th>25%</th>\n",
       "      <td>0.060000</td>\n",
       "    </tr>\n",
       "    <tr>\n",
       "      <th>50%</th>\n",
       "      <td>0.430000</td>\n",
       "    </tr>\n",
       "    <tr>\n",
       "      <th>75%</th>\n",
       "      <td>1.320000</td>\n",
       "    </tr>\n",
       "    <tr>\n",
       "      <th>max</th>\n",
       "      <td>29.850000</td>\n",
       "    </tr>\n",
       "  </tbody>\n",
       "</table>\n",
       "</div>"
      ],
      "text/plain": [
       "       precipitation\n",
       "count     365.000000\n",
       "mean        1.176521\n",
       "std         2.389946\n",
       "min         0.000000\n",
       "25%         0.060000\n",
       "50%         0.430000\n",
       "75%         1.320000\n",
       "max        29.850000"
      ]
     },
     "execution_count": 252,
     "metadata": {},
     "output_type": "execute_result"
    }
   ],
   "source": [
    "## precipitation analysis statistics:\n",
    "prcp_each_day_df.describe()"
   ]
  },
  {
   "cell_type": "markdown",
   "metadata": {},
   "source": [
    "### Station Analysis\n",
    "- Designing a query to calculate the total number of stations.\n",
    "- Designing a query to find the most active stations.\n",
    "    * Listing the stations and observation counts in descending order\n",
    "    * Finding out which station has the highest number of observations?\n",
    "- Designing a query to retrieve the last 12 months of temperature observation data (tobs).\n",
    "    - Filtering by the station with the highest number of observations.\n",
    "    - Plotting the results as a histogram with bins=12.\n"
   ]
  },
  {
   "cell_type": "code",
   "execution_count": 55,
   "metadata": {
    "collapsed": true
   },
   "outputs": [],
   "source": [
    "#saving reference for station ORM class\n",
    "Station = Base.classes.stations"
   ]
  },
  {
   "cell_type": "code",
   "execution_count": 56,
   "metadata": {},
   "outputs": [
    {
     "data": {
      "text/plain": [
       "{'_sa_instance_state': <sqlalchemy.orm.state.InstanceState at 0x1120b84a8>,\n",
       " 'elevation': 3.0,\n",
       " 'id': 1,\n",
       " 'latitude': 21.2716,\n",
       " 'longitude': -157.8168,\n",
       " 'name': 'WAIKIKI 717.2, HI US',\n",
       " 'station': 'USC00519397'}"
      ]
     },
     "execution_count": 56,
     "metadata": {},
     "output_type": "execute_result"
    }
   ],
   "source": [
    "session.query(Station).first().__dict__"
   ]
  },
  {
   "cell_type": "code",
   "execution_count": 57,
   "metadata": {},
   "outputs": [
    {
     "name": "stdout",
     "output_type": "stream",
     "text": [
      "There are total 9 stations\n"
     ]
    }
   ],
   "source": [
    "#Query to count the number of stations\n",
    "total_stations = session.query(func.count(Station.station)).one() #.all() returns list\n",
    "print('There are total',total_stations[0],'stations')"
   ]
  },
  {
   "cell_type": "code",
   "execution_count": 71,
   "metadata": {},
   "outputs": [
    {
     "data": {
      "text/plain": [
       "[('USC00519281', 2772),\n",
       " ('USC00519397', 2724),\n",
       " ('USC00513117', 2709),\n",
       " ('USC00519523', 2669),\n",
       " ('USC00516128', 2612),\n",
       " ('USC00514830', 2202),\n",
       " ('USC00511918', 1979),\n",
       " ('USC00517948', 1372),\n",
       " ('USC00518838', 511)]"
      ]
     },
     "execution_count": 71,
     "metadata": {},
     "output_type": "execute_result"
    }
   ],
   "source": [
    "# Design a query to find the most active stations.\n",
    "    # List the stations and observation counts in descending order\n",
    "    # Which station has the highest number of observations?\n",
    "active_stations = session.query(Measurement.station ,func.count(Measurement.station)).\\\n",
    "                    group_by(Measurement.station).order_by(func.count(Measurement.station).desc()).all()\n",
    "    \n",
    "active_stations"
   ]
  },
  {
   "cell_type": "code",
   "execution_count": 73,
   "metadata": {},
   "outputs": [
    {
     "name": "stdout",
     "output_type": "stream",
     "text": [
      "\n",
      "The most active station is USC00519281 with 2772 observations\n"
     ]
    }
   ],
   "source": [
    "#The most active station\n",
    "print(f\"\\nThe most active station is {active_stations[0][0]} with {active_stations[0][1]} observations\")"
   ]
  },
  {
   "cell_type": "code",
   "execution_count": 74,
   "metadata": {},
   "outputs": [
    {
     "data": {
      "text/plain": [
       "[(82.0),\n",
       " (82.0),\n",
       " (82.0),\n",
       " (82.0),\n",
       " (81.0),\n",
       " (81.0),\n",
       " (81.0),\n",
       " (81.0),\n",
       " (81.0),\n",
       " (81.0)]"
      ]
     },
     "execution_count": 74,
     "metadata": {},
     "output_type": "execute_result"
    }
   ],
   "source": [
    "# Que: Design a query to retrieve the last 12 months of temperature observation data (tobs). \n",
    "        # Filter by the station with the highest number of observations.\n",
    "        # Plot the results as a histogram with bins=12.\n",
    "    \n",
    "# Analyst's discretion:\n",
    "    # Using same 12 month range as above - from August 2016 to July 2017 to retrieve temp obs (tobs)\n",
    "    # Taking average of tobs as days are repeated \n",
    "    \n",
    "most_active = session.query(Measurement.tobs).\\\n",
    "                    filter(Measurement.station == active_stations[0][0]).\\\n",
    "                    filter(Measurement.date.between('2016-08-01','2017-07-31')).\\\n",
    "                    order_by(Measurement.tobs.desc()).all()\n",
    "most_active[:10]"
   ]
  },
  {
   "cell_type": "code",
   "execution_count": 75,
   "metadata": {},
   "outputs": [
    {
     "data": {
      "text/plain": [
       "[82.0, 82.0, 82.0, 82.0, 81.0]"
      ]
     },
     "execution_count": 75,
     "metadata": {},
     "output_type": "execute_result"
    }
   ],
   "source": [
    "# #unpacking tuple format from most_active list to plot graph\n",
    "most_active_tobs = [float(i[0]) for i in most_active]\n",
    "most_active_tobs[:5]"
   ]
  },
  {
   "cell_type": "code",
   "execution_count": 77,
   "metadata": {},
   "outputs": [
    {
     "data": {
      "image/png": "[encoded data removed]",
      "text/plain": [
       "<matplotlib.figure.Figure at 0x113422278>"
      ]
     },
     "metadata": {},
     "output_type": "display_data"
    }
   ],
   "source": [
    "# # creating Histogram for most_active station tobs with bin size = 12\n",
    "sns.set()\n",
    "plt.figure(figsize=(8,6))\n",
    "plt.hist(most_active_tobs, bins=12, color='gold')\n",
    "plt.title('Temperature frequency observed at'+ active_stations[0][0] + 'during August 2016 to July 2017\\n', fontsize = 16)\n",
    "plt.ylabel('Frequency', fontsize = 14)\n",
    "plt.xlabel('Temperature range at station at ' + active_stations[0][0], fontsize = 14)\n",
    "\n",
    "proxy_tobs = mp.Patch(color='gold', label='tobs')\n",
    "plt.legend(handles=[proxy_tobs])\n",
    "plt.show()\n"
   ]
  },
  {
   "cell_type": "markdown",
   "metadata": {},
   "source": [
    "### Temperature Analysis\n",
    "- Writing a function called calc_temps that will accept a start date and end date in the format %Y-%m-%d and return the minimum, average, and maximum temperatures for that range of dates.\n",
    "- Using the calc_temps function to calculate the min, avg, and max temperatures for your trip using the matching dates from the previous year (i.e. use \"2017-01-01\" if your trip start date was \"2018-01-01\")\n",
    "- Plotting the min, avg, and max temperature from your previous query as a bar chart.\n",
    "- Using the average temperature as the bar height.\n",
    "- Using the peak-to-peak (tmax-tmin) value as the y error bar (yerr).\n"
   ]
  },
  {
   "cell_type": "code",
   "execution_count": 34,
   "metadata": {
    "collapsed": true
   },
   "outputs": [],
   "source": [
    "# building cal_temps function to know the min, max and avg temperature of all hawaii_stations in vacation dates\n",
    "\n",
    "def cal_temps(date1,date2):\n",
    "    sel = [func.avg(Measurement.tobs), func.max(Measurement.tobs), func.min(Measurement.tobs)]\n",
    "    calcs = session.query(*sel).filter(func.strftime('%Y-%m-%d', Measurement.date)\\\n",
    "            .between(date1,date2)).one()\n",
    "    return calcs\n",
    "\n",
    "#`{:.2}'.format(<number>)\n",
    "#str.zfill"
   ]
  },
  {
   "cell_type": "code",
   "execution_count": 35,
   "metadata": {},
   "outputs": [
    {
     "data": {
      "text/plain": [
       "(68.36585365853658, 74.0, 62.0)"
      ]
     },
     "execution_count": 35,
     "metadata": {},
     "output_type": "execute_result"
    }
   ],
   "source": [
    "#testing the function by putting 2 random dates in range of 3 to 15 days\n",
    "\n",
    "# cal_temps('2017-02-01', '2017-02-15')\n",
    "vaca_tobs = cal_temps('2017-01-01','2017-01-07') #vacation dates\n",
    "vaca_avg = vaca_tobs[0]\n",
    "vaca_max = vaca_tobs[1]\n",
    "vaca_min = vaca_tobs[2]\n",
    "len(vaca_tobs)\n",
    "vaca_tobs"
   ]
  },
  {
   "cell_type": "code",
   "execution_count": 36,
   "metadata": {},
   "outputs": [
    {
     "data": {
      "image/png": "[encoded data removed]",
      "text/plain": [
       "<matplotlib.figure.Figure at 0x1185c80f0>"
      ]
     },
     "metadata": {},
     "output_type": "display_data"
    }
   ],
   "source": [
    "#plotting bar chart of previous query\n",
    "sns.set()\n",
    "plt.figure(figsize=(4,6)) \n",
    "plt.bar(len(vaca_tobs), vaca_avg, color='lightcoral', width=0.2, yerr = vaca_max-vaca_min)\n",
    "plt.xticks([]*0)\n",
    "plt.yticks(fontsize = 12)\n",
    "plt.title('Vacation\\'s average temperature\\n', fontsize=16, color='black')\n",
    "plt.ylabel('Temp (F)', fontsize = 14,color='black')\n",
    "# plt.legend('tobs',loc=1)\n",
    "plt.show()"
   ]
  },
  {
   "cell_type": "markdown",
   "metadata": {},
   "source": [
    "### Optional Recommended Analysis\n",
    "The following are optional challenge queries. These are highly recommended to attempt, but not required\n",
    "- Calculating the rainfall per weather station using the previous year's matching dates.\n",
    "- Calculating the daily normals. Normals are the averages for min, avg, and max temperatures.\n",
    "- Creating a function called daily_normals that will calculate the daily normals for a specific date. This date string - will be in the format %m-%d. Be sure to use all historic tobs that match that date string.\n",
    "- Creating a list of dates for your trip in the format %m-%d. Using the daily_normals function to calculate the normals for each date string and append the results to a list.\n",
    "- Loading the list of daily normals into a Pandas DataFrame and set the index equal to the date.\n",
    "- Using Pandas to plot an area plot (stacked=False) for the daily normals.\n"
   ]
  },
  {
   "cell_type": "code",
   "execution_count": 18,
   "metadata": {},
   "outputs": [
    {
     "data": {
      "text/plain": [
       "[('USC00513117', 54.39000000000004),\n",
       " ('USC00514830', 34.13999999999999),\n",
       " ('USC00516128', 157.91000000000005),\n",
       " ('USC00517948', 4.77),\n",
       " ('USC00519281', 79.49000000000005),\n",
       " ('USC00519397', 17.179999999999993),\n",
       " ('USC00519523', 39.800000000000004)]"
      ]
     },
     "execution_count": 18,
     "metadata": {},
     "output_type": "execute_result"
    }
   ],
   "source": [
    "# Calculate the rainfall per weather station using the previous year's matching dates.\n",
    "prcp_per_station = session.query((Measurement.station), func.sum(Measurement.prcp))\\\n",
    "            .filter(Measurement.date.between('2016-08-01','2017-07-31')).group_by(Measurement.station)\\\n",
    "            .order_by(Measurement.date).all()\n",
    "prcp_per_station"
   ]
  },
  {
   "cell_type": "code",
   "execution_count": 19,
   "metadata": {
    "collapsed": true,
    "scrolled": true
   },
   "outputs": [],
   "source": [
    "#unpacking list of tuples into separate list to add into dataframe\n",
    "stations = [i[0] for i in prcp_per_station]\n",
    "precipitation = [i[1] for i in prcp_per_station]"
   ]
  },
  {
   "cell_type": "code",
   "execution_count": 20,
   "metadata": {},
   "outputs": [
    {
     "data": {
      "text/html": [
       "<div>\n",
       "<style>\n",
       "    .dataframe thead tr:only-child th {\n",
       "        text-align: right;\n",
       "    }\n",
       "\n",
       "    .dataframe thead th {\n",
       "        text-align: left;\n",
       "    }\n",
       "\n",
       "    .dataframe tbody tr th {\n",
       "        vertical-align: top;\n",
       "    }\n",
       "</style>\n",
       "<table border=\"1\" class=\"dataframe\">\n",
       "  <thead>\n",
       "    <tr style=\"text-align: right;\">\n",
       "      <th></th>\n",
       "      <th>precipitation</th>\n",
       "    </tr>\n",
       "    <tr>\n",
       "      <th>stations</th>\n",
       "      <th></th>\n",
       "    </tr>\n",
       "  </thead>\n",
       "  <tbody>\n",
       "    <tr>\n",
       "      <th>USC00513117</th>\n",
       "      <td>54.39</td>\n",
       "    </tr>\n",
       "    <tr>\n",
       "      <th>USC00514830</th>\n",
       "      <td>34.14</td>\n",
       "    </tr>\n",
       "    <tr>\n",
       "      <th>USC00516128</th>\n",
       "      <td>157.91</td>\n",
       "    </tr>\n",
       "    <tr>\n",
       "      <th>USC00517948</th>\n",
       "      <td>4.77</td>\n",
       "    </tr>\n",
       "    <tr>\n",
       "      <th>USC00519281</th>\n",
       "      <td>79.49</td>\n",
       "    </tr>\n",
       "  </tbody>\n",
       "</table>\n",
       "</div>"
      ],
      "text/plain": [
       "             precipitation\n",
       "stations                  \n",
       "USC00513117          54.39\n",
       "USC00514830          34.14\n",
       "USC00516128         157.91\n",
       "USC00517948           4.77\n",
       "USC00519281          79.49"
      ]
     },
     "execution_count": 20,
     "metadata": {},
     "output_type": "execute_result"
    }
   ],
   "source": [
    "#putting into dataframe\n",
    "prcp_station = pd.DataFrame(prcp_per_station, columns=['stations', 'precipitation'])\n",
    "#converting date string to datetime format\n",
    "\n",
    "#setting the index to date\n",
    "prcp_station.set_index(['stations'], inplace=True)\n",
    "prcp_station.head()"
   ]
  },
  {
   "cell_type": "code",
   "execution_count": 21,
   "metadata": {
    "scrolled": false
   },
   "outputs": [
    {
     "data": {
      "image/png": "[encoded data removed]",
      "text/plain": [
       "<matplotlib.figure.Figure at 0x113acfcc0>"
      ]
     },
     "metadata": {},
     "output_type": "display_data"
    }
   ],
   "source": [
    "prcp_station.plot.bar(figsize =(8,5), rot = 45)\n",
    "plt.title('Precipitation per station for 12 months ranging from August 2016 to July 2017\\n')\n",
    "plt.show() "
   ]
  },
  {
   "cell_type": "markdown",
   "metadata": {
    "collapsed": true
   },
   "source": [
    "### The API for this data is in the file hawaii_api.py "
   ]
  }
 ],
 "metadata": {
  "kernelspec": {
   "display_name": "Python 3",
   "language": "python",
   "name": "python3"
  },
  "language_info": {
   "codemirror_mode": {
    "name": "ipython",
    "version": 3
   },
   "file_extension": ".py",
   "mimetype": "text/x-python",
   "name": "python",
   "nbconvert_exporter": "python",
   "pygments_lexer": "ipython3",
   "version": "3.6.1"
  }
 },
 "nbformat": 4,
 "nbformat_minor": 2
}
